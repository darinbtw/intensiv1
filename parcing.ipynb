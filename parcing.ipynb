{
 "cells": [
  {
   "cell_type": "markdown",
   "metadata": {},
   "source": [
    "Парсер квартир из циана в exel файл"
   ]
  },
  {
   "cell_type": "code",
   "execution_count": 9,
   "metadata": {},
   "outputs": [
    {
     "name": "stdout",
     "output_type": "stream",
     "text": [
      "\n",
      "                              Preparing to collect information from pages..\n",
      "The page from which the collection of information begins: \n",
      " https://cian.ru/cat.php?engine_version=2&p=1&with_neighbors=0&region=1&deal_type=sale&offer_type=flat&room3=1\n",
      "\n",
      "Collecting information from pages with list of offers\n",
      " 1 | 1 page with list: [=>=>=>=>=>=>=>=>=>=>=>=>=>=>=>=>=>=>=>=>=>=>=>=>=>=>=>=>] 100% | Count of all parsed: 28. Progress ratio: 100 %. Average price: 727 068 228 rub\n",
      "\n",
      "The collection of information from the pages with list of offers is completed\n",
      "Total number of parsed offers: 28. \n"
     ]
    }
   ],
   "source": [
    "import cianparser\n",
    "\n",
    "moscow = cianparser.CianParser(location='Москва')\n",
    "data = moscow.get_flats(deal_type='sale', rooms=(3), additional_settings={'start_page': 1, 'end_page':1} )\n",
    "sorted_price = sorted(data, key=lambda x: x['price'])\n"
   ]
  },
  {
   "cell_type": "code",
   "execution_count": 10,
   "metadata": {},
   "outputs": [
    {
     "name": "stdout",
     "output_type": "stream",
     "text": [
      "Автор: Среда  developer Ссылка: https://www.cian.ru/sale/flat/304753723/ Локация: Москва Тип сортировки: sale flat Этаж: 2 44 Квартира: 3 Всего метров: 83.71 Цена: 28859441 Район: Кунцево Улица: 48-й кв-л  Кунцевская Кутузовский Квартал ЖК\n",
      "Автор: Tekta Group  developer Ссылка: https://www.cian.ru/sale/flat/301259721/ Локация: Москва Тип сортировки: sale flat Этаж: 19 42 Квартира: 3 Всего метров: 65.9 Цена: 30201484 Район: Котловка Улица: Севастопольский проспект 22А Нагорная Eniteo\n",
      "Автор: BARNES International Realty  real_estate_agent Ссылка: https://www.cian.ru/sale/flat/296139192/ Локация: Москва Тип сортировки: sale flat Этаж: 24 44 Квартира: 3 Всего метров: 69.0 Цена: 31700000 Район: Пресненский Улица: Ходынская  2 Улица 1905 года Пресня Сити\n",
      "Автор: MR Group  developer Ссылка: https://www.cian.ru/sale/flat/306614056/ Локация: Москва Тип сортировки: sale flat Этаж: 9 28 Квартира: 3 Всего метров: 87.7 Цена: 32115301 Район: Даниловский Улица:   Павелецкая Павелецкая Сити ЖК\n",
      "Автор: hoomie  real_estate_agent Ссылка: https://www.cian.ru/sale/flat/305679858/ Локация: Москва Тип сортировки: sale flat Этаж: 11 20 Квартира: 3 Всего метров: 87.02 Цена: 32910964 Район: Даниловский Улица:   Тульская Форст ЖК\n",
      "Автор: Homeapp  real_estate_agent Ссылка: https://www.cian.ru/sale/flat/303877794/ Локация: Москва Тип сортировки: sale flat Этаж: 13 14 Квартира: 3 Всего метров: 70.9 Цена: 39200000 Район: Раменки Улица: проспект Генерала Дорохова 39к2А Минская Собрание клубных домов West Garden\n",
      "Автор: Галс-Девелопмент  developer Ссылка: https://www.cian.ru/sale/flat/306243037/ Локация: Москва Тип сортировки: sale flat Этаж: 15 23 Квартира: 3 Всего метров: 82.8 Цена: 39578400 Район: Басманный Улица:  Фридриха Энгельса 56С9 Бауманская Дом 56\n",
      "Автор: Главстрой  developer Ссылка: https://www.cian.ru/sale/flat/307941294/ Локация: Москва Тип сортировки: sale flat Этаж: 4 20 Квартира: 3 Всего метров: 103.7 Цена: 40291971 Район: Филевский парк Улица: Береговой проезд 2 Фили Береговой-2\n",
      "Автор: Главстрой  developer Ссылка: https://www.cian.ru/sale/flat/307942465/ Локация: Москва Тип сортировки: sale flat Этаж: 5 35 Квартира: 3 Всего метров: 95.73 Цена: 40514371 Район: Котловка Улица: 31/2 31/2 Профсоюзная Новые Академики ЖК\n",
      "Автор: ЕСН  real_estate_agent Ссылка: https://www.cian.ru/sale/flat/307712349/ Локация: Москва Тип сортировки: sale flat Этаж: 23 31 Квартира: 3 Всего метров: 81.6 Цена: 47900000 Район: Раменки Улица:  Лобачевского 120к1 Аминьевская Крылья\n",
      "Автор: Kalinka Group  real_estate_agent Ссылка: https://www.cian.ru/sale/flat/296710178/ Локация: Москва Тип сортировки: sale flat Этаж: 22 31 Квартира: 3 Всего метров: 83.0 Цена: 52000000 Район: Раменки Улица:  Лобачевского 120к1 Аминьевская Крылья\n",
      "Автор: ZIP Realty  real_estate_agent Ссылка: https://www.cian.ru/sale/flat/308825551/ Локация: Москва Тип сортировки: sale flat Этаж: 2 12 Квартира: 3 Всего метров: 106.2 Цена: 53000000 Район: Хорошевский Улица: Ходынский бульвар 19 ЦСКА Гранд-парк\n",
      "Автор: BARNES International Realty  real_estate_agent Ссылка: https://www.cian.ru/sale/flat/306888870/ Локация: Москва Тип сортировки: sale flat Этаж: 25 35 Квартира: 3 Всего метров: 137.6 Цена: 70000000 Район: Щукино Улица: Авиационная  79К1 Щукинская Алые Паруса\n",
      "Автор: BARNES International Realty  real_estate_agent Ссылка: https://www.cian.ru/sale/flat/302537359/ Локация: Москва Тип сортировки: sale flat Этаж: 2 14 Квартира: 3 Всего метров: 120.0 Цена: 89000000 Район: Замоскворечье Улица: Мытная  7с2 Серпуховская Английский квартал\n",
      "Автор: White and Broughton  real_estate_agent Ссылка: https://www.cian.ru/sale/flat/305736633/ Локация: Москва Тип сортировки: sale flat Этаж: 35 41 Квартира: 3 Всего метров: 97.4 Цена: 95000000 Район: Хорошевский Улица: Ленинградский проспект 37/3 Аэропорт Прайм Парк\n",
      "Автор: SHOW ME  real_estate_agent Ссылка: https://www.cian.ru/sale/flat/306567075/ Локация: Москва Тип сортировки: sale flat Этаж: 2 10 Квартира: 3 Всего метров: 115.0 Цена: 101000000 Район: Тверской Улица: Большая Грузинская  69 Белорусская Четыре Ветра\n",
      "Автор: ANT Development  developer Ссылка: https://www.cian.ru/sale/flat/303519403/ Локация: Москва Тип сортировки: sale flat Этаж: 3 10 Квартира: 3 Всего метров: 105.8 Цена: 115430498 Район: Дорогомилово Улица:  3к8 Поклонная Виктори Парк Резиденсез ЖК\n",
      "Автор: ZIP Realty  real_estate_agent Ссылка: https://www.cian.ru/sale/flat/308802493/ Локация: Москва Тип сортировки: sale flat Этаж: 10 20 Квартира: 3 Всего метров: 110.7 Цена: 122000000 Район: Пресненский Улица:  Костикова 4к1 Улица 1905 года Lucky\n",
      "Автор: Kalinka Group  real_estate_agent Ссылка: https://www.cian.ru/sale/flat/302398135/ Локация: Москва Тип сортировки: sale flat Этаж: 5 17 Квартира: 3 Всего метров: 105.0 Цена: 130000000 Район: Пресненский Улица:  Сергея Макеева 9к2 Улица 1905 года RedSide\n",
      "Автор: Kalinka Group  real_estate_agent Ссылка: https://www.cian.ru/sale/flat/306447297/ Локация: Москва Тип сортировки: sale flat Этаж: 13 21 Квартира: 3 Всего метров: 130.0 Цена: 155000000 Район: Пресненский Улица:  Костикова 4к4 Улица 1905 года Lucky\n",
      "Автор: VESPER  developer Ссылка: https://www.cian.ru/sale/flat/307544571/ Локация: Москва Тип сортировки: sale flat Этаж: 2 21 Квартира: 3 Всего метров: 157.8 Цена: 165216600 Район: Пресненский Улица:  Костикова 4к1 Улица 1905 года Lucky\n",
      "Автор: Галс-Девелопмент  developer Ссылка: https://www.cian.ru/sale/flat/303040443/ Локация: Москва Тип сортировки: sale flat Этаж: 5 5 Квартира: 3 Всего метров: 183.1 Цена: 174494300 Район: Арбат Улица: Поварская  8/1к1 Арбатская De Luxe квартал апартаментов Театральный Дом\n",
      "Автор: Галс-Девелопмент  developer Ссылка: https://www.cian.ru/sale/flat/308080997/ Локация: Москва Тип сортировки: sale flat Этаж: 2 6 Квартира: 3 Всего метров: 118.66 Цена: 195551680 Район: Замоскворечье Улица: Космодамианская набережная 4/22С8 Новокузнецкая Клубный дом Космо 4/22\n",
      "Автор: Правовой центр жилья  real_estate_agent Ссылка: https://www.cian.ru/sale/flat/308734826/ Локация: Москва Тип сортировки: sale flat Этаж: 3 8 Квартира: 3 Всего метров: 121.3 Цена: 206000000 Район: Красносельский Улица: Костянский переулок 13 Сретенский бульвар Клубный дом TURGENEV\n",
      "Автор: MR Group  developer Ссылка: https://www.cian.ru/sale/flat/308909146/ Локация: Москва Тип сортировки: sale flat Этаж: 11 13 Квартира: 3 Всего метров: 141.9 Цена: 252851610 Район: Мещанский Улица: Садовая-Сухаревская  14 Цветной бульвар Клубный дом Forum\n",
      "Автор: Sminex  developer Ссылка: https://www.cian.ru/sale/flat/293713709/ Локация: Москва Тип сортировки: sale flat Этаж: 2 14 Квартира: 3 Всего метров: 142.1 Цена: 309370000 Район: Якиманка Улица:   Полянка Лаврушинский ЖК\n",
      "Автор: Sminex  developer Ссылка: https://www.cian.ru/sale/flat/306342049/ Локация: Москва Тип сортировки: sale flat Этаж: 2 10 Квартира: 3 Всего метров: 147.5 Цена: 372260000 Район: Хамовники Улица: Фрунзенская набережная 30 Фрунзенская Клубный город-парк \n",
      "Автор: VESPER  developer Ссылка: https://www.cian.ru/sale/flat/308110877/ Локация: Москва Тип сортировки: sale flat Этаж: 4 6 Квартира: 3 Всего метров: 264.6 Цена: 661500000 Район: Пресненский Улица: Трехпрудный переулок 9С2 Пушкинская Клубный дом Левенсон\n"
     ]
    }
   ],
   "source": [
    "for apartment in sorted_price:\n",
    "    print(f'Автор: {apartment[\"author\"]}  {apartment[\"author_type\"]} Ссылка: {apartment[\"url\"]} Локация: {apartment[\"location\"]} '\n",
    "          f'Тип сортировки: {apartment[\"deal_type\"]} {apartment[\"accommodation_type\"]} Этаж: {apartment[\"floor\"]} {apartment[\"floors_count\"]} Квартира: {apartment[\"rooms_count\"]} '\n",
    "          f'Всего метров: {apartment[\"total_meters\"]} Цена: {apartment[\"price\"]} Район: {apartment[\"district\"]} Улица: {apartment[\"street\"]} {apartment[\"house_number\"]} '\n",
    "          f'{apartment[\"underground\"]} {apartment[\"residential_complex\"]}')\n"
   ]
  }
 ],
 "metadata": {
  "kernelspec": {
   "display_name": ".venv",
   "language": "python",
   "name": "python3"
  },
  "language_info": {
   "codemirror_mode": {
    "name": "ipython",
    "version": 3
   },
   "file_extension": ".py",
   "mimetype": "text/x-python",
   "name": "python",
   "nbconvert_exporter": "python",
   "pygments_lexer": "ipython3",
   "version": "3.12.6"
  }
 },
 "nbformat": 4,
 "nbformat_minor": 2
}
