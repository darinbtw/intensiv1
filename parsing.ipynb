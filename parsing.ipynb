{
 "cells": [
  {
   "cell_type": "code",
   "execution_count": null,
   "metadata": {
    "vscode": {
     "languageId": "plaintext"
    }
   },
   "outputs": [],
   "source": [
    "import cianparser\n",
    "\n",
    "# Создаем экземпляр парсера\n",
    "parser = cianparser.CianParser(location=\"Москва\")\n",
    "\n",
    "# Получаем данные\n",
    "data = parser.get_flats(deal_type=\"sale\", rooms=(2), additional_settings={\"start_page\": 200, \"end_page\": 205}, with_extra_data=True, with_saving_csv=True)\n"
   ]
  }
 ],
 "metadata": {
  "language_info": {
   "name": "python"
  }
 },
 "nbformat": 4,
 "nbformat_minor": 2
}
